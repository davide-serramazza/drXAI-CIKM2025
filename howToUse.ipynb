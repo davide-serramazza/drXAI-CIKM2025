{
 "cells": [
  {
   "metadata": {},
   "cell_type": "markdown",
   "source": [
    "notes on how to improve the code\n",
    "\n",
    "- clean all non necessary files and push to github (git remote add origin https://github.com/mlgig/MTS_torch_classifiers.git; \n",
    "git branch -M main; \n",
    "git push -u origin main\n",
    ")\n",
    "\n",
    "- optional params for each class int setting hyperparams e.g. emb size for ConvTran, n_channels for hydra\n",
    "\n",
    "- option non verbose for ConvTran\n",
    "\n",
    "- return only transformation for hydra miniRocket and QUANT\n",
    "\n",
    "- cite tsai in miniRocket"
   ],
   "id": "5935f05b3a69a971"
  },
  {
   "metadata": {},
   "cell_type": "markdown",
   "source": "# load dataset",
   "id": "b83ecb389c3ee78b"
  },
  {
   "metadata": {
    "ExecuteTime": {
     "end_time": "2024-12-19T08:32:24.346957Z",
     "start_time": "2024-12-19T08:32:24.291748Z"
    }
   },
   "cell_type": "code",
   "source": [
    "import numpy as np\n",
    "data = np.load('CMJ_resampled.npy', allow_pickle=True).item()\n",
    "X_train , y_train = data['train']['X'], data['train']['y']\n",
    "X_test , y_test = data['test']['X'], data['test']['y']\n",
    "\n",
    "print(X_train.shape, X_test.shape, np.unique(y_train).shape)"
   ],
   "id": "initial_id",
   "outputs": [
    {
     "name": "stdout",
     "output_type": "stream",
     "text": [
      "(419, 3, 384) (179, 3, 384) (3,)\n"
     ]
    }
   ],
   "execution_count": 1
  },
  {
   "metadata": {},
   "cell_type": "markdown",
   "source": "### everytime convert labels into idx, labelEncoding keep track of the mapping",
   "id": "35665aae1c2d9e40"
  },
  {
   "metadata": {
    "ExecuteTime": {
     "end_time": "2024-12-19T08:32:25.018760Z",
     "start_time": "2024-12-19T08:32:24.611281Z"
    }
   },
   "cell_type": "code",
   "source": [
    "from sklearn.preprocessing import LabelEncoder \n",
    "le = LabelEncoder()\n",
    "y_train = le.fit_transform(y_train)\n",
    "y_test = le.transform(y_test)\n",
    "le.classes_"
   ],
   "id": "89083bbeaaa280b4",
   "outputs": [
    {
     "data": {
      "text/plain": [
       "array(['0', '1', '2'], dtype='<U1')"
      ]
     },
     "execution_count": 2,
     "metadata": {},
     "output_type": "execute_result"
    }
   ],
   "execution_count": 2
  },
  {
   "metadata": {},
   "cell_type": "markdown",
   "source": "# quant aaltd2024 data",
   "id": "dacb3c946df9f241"
  },
  {
   "metadata": {
    "ExecuteTime": {
     "end_time": "2024-12-19T08:32:26.339580Z",
     "start_time": "2024-12-19T08:32:25.174405Z"
    }
   },
   "cell_type": "code",
   "source": [
    "from models.aaltd2024.code.quant import QuantClassifier\n",
    "from models.aaltd2024.code.utils import BatchDataset"
   ],
   "id": "f6d38ee65f16febe",
   "outputs": [],
   "execution_count": 3
  },
  {
   "metadata": {},
   "cell_type": "markdown",
   "source": [
    "convert data into pytorch dataLoader (torch tensors)\n",
    "## NOTE careful about QUANT, dataLoader might be bugged"
   ],
   "id": "a65cb7986c82b99b"
  },
  {
   "metadata": {
    "ExecuteTime": {
     "end_time": "2024-12-19T08:32:26.342366Z",
     "start_time": "2024-12-19T08:32:26.340370Z"
    }
   },
   "cell_type": "code",
   "source": [
    "batch_size = 32\n",
    "data_train = BatchDataset(X_train, y_train, batch_size=batch_size, shuffle=True)\n",
    "data_test = BatchDataset(X_test, y_test, batch_size=batch_size, shuffle=False)"
   ],
   "id": "b4ee2e7728f85a30",
   "outputs": [],
   "execution_count": 4
  },
  {
   "metadata": {},
   "cell_type": "markdown",
   "source": "# strong suggestion! always do shuffle the train (dev) set, NEVER shuffle the test set",
   "id": "c680cc7ca888639b"
  },
  {
   "metadata": {
    "ExecuteTime": {
     "end_time": "2024-12-19T08:32:27.339269Z",
     "start_time": "2024-12-19T08:32:26.342871Z"
    }
   },
   "cell_type": "code",
   "source": [
    "model = QuantClassifier()\n",
    "model.fit(data_train)"
   ],
   "id": "d7b68d24b7534f4a",
   "outputs": [],
   "execution_count": 5
  },
  {
   "metadata": {
    "ExecuteTime": {
     "end_time": "2024-12-19T08:32:29.363110Z",
     "start_time": "2024-12-19T08:32:27.340146Z"
    }
   },
   "cell_type": "code",
   "source": [
    "error_quant = model.score(data_test); acc_quant = 1 - error_quant\n",
    "predictions_quant = model.predict(data_test)\n",
    "pred_probas_quant = model.predict_proba(data_test)\n",
    "\n",
    "print (\"accuracy was \",acc_quant,\"\\npredictions: \", predictions_quant[:5] ,\"...\\n probabilities:\\n\", pred_probas_quant[:5],\"...\")\n",
    "print(predictions_quant.shape, pred_probas_quant.shape, y_test.shape)"
   ],
   "id": "b36c38942fa4077f",
   "outputs": [
    {
     "name": "stdout",
     "output_type": "stream",
     "text": [
      "accuracy was  0.9217877094972067 \n",
      "predictions:  [1 0 1 0 0] ...\n",
      " probabilities:\n",
      " [[0.335 0.605 0.06 ]\n",
      " [0.9   0.065 0.035]\n",
      " [0.02  0.02  0.96 ]\n",
      " [0.99  0.    0.01 ]\n",
      " [0.93  0.05  0.02 ]] ...\n",
      "(179,) (179, 3) (179,)\n"
     ]
    }
   ],
   "execution_count": 6
  },
  {
   "metadata": {},
   "cell_type": "markdown",
   "source": "# hydra aaltd24 GPU",
   "id": "a4f0ea65305a1a16"
  },
  {
   "metadata": {
    "ExecuteTime": {
     "end_time": "2024-12-19T08:32:29.366313Z",
     "start_time": "2024-12-19T08:32:29.363786Z"
    }
   },
   "cell_type": "code",
   "source": [
    "import numpy as np\n",
    "from models.aaltd2024.code.utils import Dataset as hydraDataset\n",
    "from models.aaltd2024.code.hydra_gpu import HydraMultivariateGPU\n",
    "from models.aaltd2024.code.ridge import RidgeClassifier\n",
    "from torch.cuda import is_available as is_gpu_available"
   ],
   "id": "db9d89b821fdeeba",
   "outputs": [],
   "execution_count": 7
  },
  {
   "metadata": {},
   "cell_type": "markdown",
   "source": "same as before get Dataloader; in this case we also have the device ",
   "id": "363b1f5714d21223"
  },
  {
   "metadata": {
    "ExecuteTime": {
     "end_time": "2024-12-19T08:32:30.831343Z",
     "start_time": "2024-12-19T08:32:29.366888Z"
    }
   },
   "cell_type": "code",
   "source": [
    "device = \"cuda\" if is_gpu_available() else \"cpu\"\n",
    "batch_size = 32\n",
    "\n",
    "_ , n_channels, length = X_train.shape\n",
    "n_classes = np.unique(y_train).shape[0]\n",
    "\n",
    "data_train = hydraDataset(X_train, y_train, batch_size=batch_size, shuffle=True)\n",
    "data_test = hydraDataset(X_test, y_test, batch_size=batch_size, shuffle=False)"
   ],
   "id": "e398a545f533278d",
   "outputs": [],
   "execution_count": 8
  },
  {
   "metadata": {},
   "cell_type": "markdown",
   "source": " you can notice the pipeline here",
   "id": "700bbea719d93931"
  },
  {
   "metadata": {
    "ExecuteTime": {
     "end_time": "2024-12-19T08:32:31.300237Z",
     "start_time": "2024-12-19T08:32:30.831905Z"
    }
   },
   "cell_type": "code",
   "source": [
    "transform = HydraMultivariateGPU(input_length=length, num_channels=n_channels).to(device)\n",
    "ridge4hydra = RidgeClassifier(transform=transform, device=device)\n",
    "ridge4hydra.fit(data_train, num_classes=n_classes)"
   ],
   "id": "80204b59fb7877a6",
   "outputs": [],
   "execution_count": 9
  },
  {
   "metadata": {
    "ExecuteTime": {
     "end_time": "2024-12-19T08:32:31.520507Z",
     "start_time": "2024-12-19T08:32:31.301315Z"
    }
   },
   "cell_type": "code",
   "source": [
    "error_hydra = ridge4hydra.score(data_test) ; score_hydra = 1-error_hydra.cpu().numpy()\n",
    "\n",
    "preds_hydra = ridge4hydra.predict(data_test)\n",
    "pred_probas_hydra = ridge4hydra.predict_proba(data_test)\n",
    "\n",
    "print (\"accuracy was \",score_hydra,\"\\npredictions: \", preds_hydra[:5] ,\"...\\n probabilities:\\n\", pred_probas_hydra[:5],\"...\")\n",
    "print(preds_hydra.shape, pred_probas_hydra.shape, y_test.shape)\n"
   ],
   "id": "593b1e0dc6efe989",
   "outputs": [
    {
     "name": "stdout",
     "output_type": "stream",
     "text": [
      "accuracy was  0.9273743033409119 \n",
      "predictions:  [0 0 0 0 0] ...\n",
      " probabilities:\n",
      " [[0.5688696  0.24773626 0.18339412]\n",
      " [0.48659664 0.31500056 0.19840279]\n",
      " [0.59562397 0.23855086 0.16582514]\n",
      " [0.5287457  0.27923328 0.19202103]\n",
      " [0.45135924 0.33801287 0.2106279 ]] ...\n",
      "(179,) (179, 3) (179,)\n"
     ]
    }
   ],
   "execution_count": 10
  },
  {
   "metadata": {},
   "cell_type": "markdown",
   "source": [
    "# miniRocket GPU\n",
    "found miniRocket GPU implementation from tsai + ridge GPU implementation from aaltd24's angus"
   ],
   "id": "baf35f611a4bb10f"
  },
  {
   "metadata": {
    "ExecuteTime": {
     "end_time": "2024-12-19T08:32:31.524790Z",
     "start_time": "2024-12-19T08:32:31.521115Z"
    }
   },
   "cell_type": "code",
   "source": [
    "import numpy as np\n",
    "from models.MyMiniRocket import MyMiniRocket\n",
    "from models.aaltd2024.code.utils import Dataset as MiniRocketDataset"
   ],
   "id": "1161c46bb62ca533",
   "outputs": [],
   "execution_count": 11
  },
  {
   "metadata": {},
   "cell_type": "markdown",
   "source": "same as before",
   "id": "44a87ddd3c724084"
  },
  {
   "metadata": {
    "ExecuteTime": {
     "end_time": "2024-12-19T08:32:31.532489Z",
     "start_time": "2024-12-19T08:32:31.525377Z"
    }
   },
   "cell_type": "code",
   "source": [
    "n_samples , n_channels , seq_len = X_train.shape\n",
    "n_classes = np.unique(y_train).shape[0]\n",
    "\n",
    "device = \"cuda\" if is_gpu_available() else \"cpu\"\n",
    "batch_size = 32\n",
    "\n",
    "data_train = MiniRocketDataset(X_train, y_train, batch_size=batch_size, shuffle=True)\n",
    "data_test = MiniRocketDataset(X_test, y_test, batch_size=batch_size, shuffle=False)\n"
   ],
   "id": "42b9709e608c943d",
   "outputs": [],
   "execution_count": 12
  },
  {
   "metadata": {
    "ExecuteTime": {
     "end_time": "2024-12-19T08:32:32.131942Z",
     "start_time": "2024-12-19T08:32:31.533080Z"
    }
   },
   "cell_type": "code",
   "source": [
    "miniRocket = MyMiniRocket(n_channels=n_channels,seq_len=seq_len,n_classes=n_classes,\n",
    "\t\t\t\t\t\t  normalise=False, device=\"cuda\")\n",
    "miniRocket.train(data_train)\n",
    "acc_miniR = miniRocket.score(data_test)"
   ],
   "id": "a5467ede23eff934",
   "outputs": [],
   "execution_count": 13
  },
  {
   "metadata": {
    "ExecuteTime": {
     "end_time": "2024-12-19T08:32:32.430561Z",
     "start_time": "2024-12-19T08:32:32.132751Z"
    }
   },
   "cell_type": "code",
   "source": [
    "\n",
    "preds_miniR = miniRocket.predict(data_test) ; \n",
    "pred_probas_miniR = miniRocket.predict_proba(data_test)\n",
    "\n",
    "print (\"accuracy was \",acc_miniR,\"\\npredictions: \", preds_miniR[:5] ,\"...\\n probabilities:\\n\", pred_probas_miniR[:5],\"...\")\n",
    "print(preds_miniR.shape, pred_probas_miniR.shape, y_test.shape)\n"
   ],
   "id": "a3c3f8410cdf5aa6",
   "outputs": [
    {
     "name": "stdout",
     "output_type": "stream",
     "text": [
      "accuracy was  0.9441340789198875 \n",
      "predictions:  [0 0 0 0 0] ...\n",
      " probabilities:\n",
      " [[0.36723945 0.3542896  0.278471  ]\n",
      " [0.41379905 0.32062802 0.26557294]\n",
      " [0.39968294 0.2963606  0.30395645]\n",
      " [0.4396199  0.24795483 0.31242526]\n",
      " [0.36138856 0.33560294 0.30300844]] ...\n",
      "(179,) (179, 3) (179,)\n"
     ]
    }
   ],
   "execution_count": 14
  },
  {
   "metadata": {},
   "cell_type": "markdown",
   "source": [
    "#  ConvTran\n",
    "previously provided with unfair usage of test set\n",
    "\n",
    "here we also have a dev_dataset i.e. (train + validation)\n",
    "\n",
    "it probably might be improved "
   ],
   "id": "97474ae23d222acd"
  },
  {
   "metadata": {
    "ExecuteTime": {
     "end_time": "2024-11-29T15:50:35.939450Z",
     "start_time": "2024-11-29T15:50:35.784571Z"
    }
   },
   "cell_type": "code",
   "source": [
    "from models.utils import load_data_ConvTran\n",
    "train_loader, val_loader, dev_dataset, test_loader = load_data_ConvTran(X_train,X_test,y_train,y_test)"
   ],
   "id": "6e1fde7f6c63d38d",
   "outputs": [],
   "execution_count": 15
  },
  {
   "metadata": {},
   "cell_type": "markdown",
   "source": [
    "# differences with before\n",
    "1) optional 'save_path' argument i.e. where to save the final model\n",
    "2) still extremely verbose... optional verbose param?"
   ],
   "id": "d9db43848873a8f2"
  },
  {
   "metadata": {},
   "cell_type": "code",
   "source": [
    "from models.convTran import *\n",
    "convTran, hyperParams = build_train_ConvTran(train_loader,val_loader,dev_dataset,save_path=\"ConvTran_CMJ.pth\")\n"
   ],
   "id": "534616e9e1c18419",
   "outputs": [],
   "execution_count": null
  },
  {
   "metadata": {},
   "cell_type": "markdown",
   "source": "",
   "id": "1a2aca78b08cb613"
  },
  {
   "metadata": {
    "ExecuteTime": {
     "end_time": "2024-11-29T15:53:28.644597Z",
     "start_time": "2024-11-29T15:53:28.242781Z"
    }
   },
   "cell_type": "code",
   "source": [
    "convTran.eval()\n",
    "accuracy_convTran = convTran.score(test_loader)\n",
    "preds_convTran = convTran.predict(test_loader)\n",
    "probas_convTran = convTran.predict_proba(test_loader)"
   ],
   "id": "51f04a3f18567bd8",
   "outputs": [],
   "execution_count": 17
  },
  {
   "metadata": {
    "ExecuteTime": {
     "end_time": "2024-11-29T15:53:29.378512Z",
     "start_time": "2024-11-29T15:53:29.371077Z"
    }
   },
   "cell_type": "code",
   "source": [
    "print (\"accuracy was \",accuracy_convTran,\"\\npredictions: \", preds_convTran[:5] ,\"...\\n probabilities:\\n\", probas_convTran[:5],\"...\")\n",
    "print(preds_convTran.shape, probas_convTran.shape, y_test.shape)\n"
   ],
   "id": "e87967f614f2cdbf",
   "outputs": [
    {
     "name": "stdout",
     "output_type": "stream",
     "text": [
      "accuracy was  0.8268156424581006 \n",
      "predictions:  [0 0 0 0 0] ...\n",
      " probabilities:\n",
      " [[0.9900339  0.00711962 0.00284643]\n",
      " [0.9930293  0.00246044 0.00451024]\n",
      " [0.9930352  0.0054089  0.00155603]\n",
      " [0.9940414  0.00371839 0.00224025]\n",
      " [0.99298745 0.00490746 0.00210511]] ...\n",
      "(179,) (179, 3) (179,)\n"
     ]
    }
   ],
   "execution_count": 18
  },
  {
   "metadata": {},
   "cell_type": "code",
   "outputs": [],
   "execution_count": null,
   "source": "",
   "id": "6781e1031832734e"
  }
 ],
 "metadata": {
  "kernelspec": {
   "display_name": "Python 3",
   "language": "python",
   "name": "python3"
  },
  "language_info": {
   "codemirror_mode": {
    "name": "ipython",
    "version": 2
   },
   "file_extension": ".py",
   "mimetype": "text/x-python",
   "name": "python",
   "nbconvert_exporter": "python",
   "pygments_lexer": "ipython2",
   "version": "2.7.6"
  }
 },
 "nbformat": 4,
 "nbformat_minor": 5
}
